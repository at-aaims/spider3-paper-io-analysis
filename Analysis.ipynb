{
 "cells": [
  {
   "cell_type": "code",
   "execution_count": 1,
   "metadata": {},
   "outputs": [
    {
     "data": {
      "text/plain": [
       "<function __main__.sfmono()>"
      ]
     },
     "execution_count": 1,
     "metadata": {},
     "output_type": "execute_result"
    },
    {
     "data": {
      "text/plain": [
       "ThemeRegistry.enable('sfmono')"
      ]
     },
     "execution_count": 1,
     "metadata": {},
     "output_type": "execute_result"
    }
   ],
   "source": [
    "# %load /Users/f7b/sys/altair/sfmono.py\n",
    "import pandas as pd\n",
    "import numpy as np\n",
    "import altair as alt\n",
    "# default view: 400 x 300\n",
    "\n",
    "def sfmono():\n",
    "    font = \"SF Mono\"\n",
    "    \n",
    "    return {\n",
    "        \"config\" : {\n",
    "             \"title\": {\n",
    "                 'font': font, \n",
    "                 'fontSize': 14\n",
    "             },\n",
    "             \"axis\": {\n",
    "                  \"titleFont\": font,\n",
    "                  \"titleFontSize\": 14,\n",
    "                  \"labelFont\": font,\n",
    "                  \"labelFontSize\": 12\n",
    "             },\n",
    "            \"view\": {\n",
    "                'width': 500, \n",
    "                'height': 400\n",
    "            },\n",
    "            \"legend\": {\n",
    "                \"titleFont\": font,      \n",
    "                \"titleFontSize\": 12,\n",
    "                \"labelFont\": font,\n",
    "                \"labelFontSize\": 11\n",
    "            },\n",
    "            \"text\": {\n",
    "                \"font\": font,\n",
    "                \"fontSize\": 12,\n",
    "            },\n",
    "            \"header\": {\n",
    "                \"titleFont\": font,\n",
    "                \"titleFontSize\": 11,\n",
    "                \"labelFont\": font,\n",
    "                \"labelFontSize\": 11\n",
    "            }\n",
    "        } # config\n",
    "    } # return\n",
    "\n",
    "alt.themes.register('sfmono', sfmono)\n",
    "alt.themes.enable('sfmono')\n"
   ]
  },
  {
   "cell_type": "markdown",
   "metadata": {},
   "source": [
    "# ESS (Single Node)"
   ]
  },
  {
   "cell_type": "code",
   "execution_count": 2,
   "metadata": {},
   "outputs": [
    {
     "data": {
      "text/html": [
       "<div>\n",
       "<style scoped>\n",
       "    .dataframe tbody tr th:only-of-type {\n",
       "        vertical-align: middle;\n",
       "    }\n",
       "\n",
       "    .dataframe tbody tr th {\n",
       "        vertical-align: top;\n",
       "    }\n",
       "\n",
       "    .dataframe thead th {\n",
       "        text-align: right;\n",
       "    }\n",
       "</style>\n",
       "<table border=\"1\" class=\"dataframe\">\n",
       "  <thead>\n",
       "    <tr style=\"text-align: right;\">\n",
       "      <th></th>\n",
       "      <th>IO_Pattern</th>\n",
       "      <th>IO_Mode</th>\n",
       "      <th>Bandwidth</th>\n",
       "    </tr>\n",
       "  </thead>\n",
       "  <tbody>\n",
       "    <tr>\n",
       "      <th>0</th>\n",
       "      <td>Random</td>\n",
       "      <td>Read</td>\n",
       "      <td>23.988</td>\n",
       "    </tr>\n",
       "    <tr>\n",
       "      <th>1</th>\n",
       "      <td>Random</td>\n",
       "      <td>Write</td>\n",
       "      <td>30.628</td>\n",
       "    </tr>\n",
       "    <tr>\n",
       "      <th>2</th>\n",
       "      <td>Sequential</td>\n",
       "      <td>Read</td>\n",
       "      <td>38.000</td>\n",
       "    </tr>\n",
       "    <tr>\n",
       "      <th>3</th>\n",
       "      <td>Sequential</td>\n",
       "      <td>Write</td>\n",
       "      <td>33.785</td>\n",
       "    </tr>\n",
       "  </tbody>\n",
       "</table>\n",
       "</div>"
      ],
      "text/plain": [
       "   IO_Pattern IO_Mode  Bandwidth\n",
       "0      Random    Read     23.988\n",
       "1      Random   Write     30.628\n",
       "2  Sequential    Read     38.000\n",
       "3  Sequential   Write     33.785"
      ]
     },
     "execution_count": 2,
     "metadata": {},
     "output_type": "execute_result"
    }
   ],
   "source": [
    "ess = pd.read_csv(\"ESS.csv\", skipinitialspace=True)\n",
    "ess\n"
   ]
  },
  {
   "cell_type": "code",
   "execution_count": 94,
   "metadata": {},
   "outputs": [
    {
     "data": {
      "application/vnd.vegalite.v2+json": {
       "$schema": "https://vega.github.io/schema/vega-lite/v2.6.0.json",
       "config": {
        "axis": {
         "labelFont": "SF Mono",
         "labelFontSize": 12,
         "titleFont": "SF Mono",
         "titleFontSize": 14
        },
        "header": {
         "labelFont": "SF Mono",
         "labelFontSize": 11,
         "titleFont": "SF Mono",
         "titleFontSize": 11
        },
        "legend": {
         "font": "SF Mono",
         "labelFontSize": 11,
         "titleFontSize": 12
        },
        "text": {
         "font": "SF Mono",
         "fontSize": 12
        },
        "title": {
         "font": "SF Mono",
         "fontSize": 14
        },
        "view": {
         "height": 400,
         "width": 500
        }
       },
       "data": {
        "name": "data-d18e5f09efaa0e99f7ba1efa17dda57b"
       },
       "datasets": {
        "data-d18e5f09efaa0e99f7ba1efa17dda57b": [
         {
          "Bandwidth": 23.988000000000003,
          "IO_Mode": "Read",
          "IO_Pattern": "Random"
         },
         {
          "Bandwidth": 30.628,
          "IO_Mode": "Write",
          "IO_Pattern": "Random"
         },
         {
          "Bandwidth": 38,
          "IO_Mode": "Read",
          "IO_Pattern": "Sequential"
         },
         {
          "Bandwidth": 33.785,
          "IO_Mode": "Write",
          "IO_Pattern": "Sequential"
         }
        ]
       },
       "facet": {
        "row": {
         "field": "IO_Pattern",
         "title": null,
         "type": "ordinal"
        }
       },
       "spec": {
        "layer": [
         {
          "encoding": {
           "color": {
            "field": "IO_Mode",
            "legend": null,
            "type": "nominal"
           },
           "x": {
            "axis": {
             "tickCount": 10,
             "title": "IOR Bandwidth (GB/s)"
            },
            "field": "Bandwidth",
            "type": "quantitative"
           },
           "y": {
            "field": "IO_Mode",
            "title": null,
            "type": "ordinal"
           }
          },
          "height": 70,
          "mark": "bar"
         },
         {
          "encoding": {
           "color": {
            "field": "IO_Mode",
            "legend": null,
            "type": "nominal"
           },
           "text": {
            "field": "Bandwidth",
            "format": ".0f",
            "type": "quantitative"
           },
           "x": {
            "axis": {
             "tickCount": 10,
             "title": "IOR Bandwidth (GB/s)"
            },
            "field": "Bandwidth",
            "type": "quantitative"
           },
           "y": {
            "field": "IO_Mode",
            "title": null,
            "type": "ordinal"
           }
          },
          "height": 70,
          "mark": {
           "align": "left",
           "baseline": "middle",
           "dx": 3,
           "type": "text"
          }
         }
        ]
       }
      },
      "image/png": "[encoded data removed]",
      "text/plain": [
       "<VegaLite 2 object>\n",
       "\n",
       "If you see this message, it means the renderer has not been properly enabled\n",
       "for the frontend that you are using. For more information, see\n",
       "https://altair-viz.github.io/user_guide/troubleshooting.html\n"
      ]
     },
     "execution_count": 94,
     "metadata": {},
     "output_type": "execute_result"
    }
   ],
   "source": [
    "df1_bars = alt.Chart(height=70).mark_bar().encode(\n",
    "    # limit ticks to make room\n",
    "    alt.X('Bandwidth:Q', axis=alt.Axis(title=\"IOR Bandwidth (GB/s)\", tickCount=10)),\n",
    "    alt.Y('IO_Mode:O', title=None),\n",
    "    color = alt.Color('IO_Mode:N', legend=None)\n",
    ")\n",
    "\n",
    "df1_texts = df1_bars.mark_text(\n",
    "    align=\"left\",\n",
    "    baseline=\"middle\",\n",
    "    dx=3\n",
    ").encode(\n",
    "    text=alt.Text(\"Bandwidth\", format=\".0f\")\n",
    ")\n",
    "\n",
    "alt.layer(df1_bars, df1_texts, data=ess).facet(row=alt.Row('IO_Pattern:O', title=None))\n",
    "    "
   ]
  },
  {
   "cell_type": "markdown",
   "metadata": {},
   "source": [
    "# Core Isolation (Write B/W Coparison)"
   ]
  },
  {
   "cell_type": "code",
   "execution_count": 2,
   "metadata": {},
   "outputs": [
    {
     "data": {
      "text/html": [
       "<div>\n",
       "<style scoped>\n",
       "    .dataframe tbody tr th:only-of-type {\n",
       "        vertical-align: middle;\n",
       "    }\n",
       "\n",
       "    .dataframe tbody tr th {\n",
       "        vertical-align: top;\n",
       "    }\n",
       "\n",
       "    .dataframe thead th {\n",
       "        text-align: right;\n",
       "    }\n",
       "</style>\n",
       "<table border=\"1\" class=\"dataframe\">\n",
       "  <thead>\n",
       "    <tr style=\"text-align: right;\">\n",
       "      <th></th>\n",
       "      <th>Ranks</th>\n",
       "      <th>variable</th>\n",
       "      <th>value</th>\n",
       "    </tr>\n",
       "  </thead>\n",
       "  <tbody>\n",
       "    <tr>\n",
       "      <th>0</th>\n",
       "      <td>1</td>\n",
       "      <td>No_CI</td>\n",
       "      <td>7.245</td>\n",
       "    </tr>\n",
       "    <tr>\n",
       "      <th>1</th>\n",
       "      <td>2</td>\n",
       "      <td>No_CI</td>\n",
       "      <td>9.854</td>\n",
       "    </tr>\n",
       "    <tr>\n",
       "      <th>2</th>\n",
       "      <td>4</td>\n",
       "      <td>No_CI</td>\n",
       "      <td>12.512</td>\n",
       "    </tr>\n",
       "    <tr>\n",
       "      <th>3</th>\n",
       "      <td>8</td>\n",
       "      <td>No_CI</td>\n",
       "      <td>14.716</td>\n",
       "    </tr>\n",
       "    <tr>\n",
       "      <th>4</th>\n",
       "      <td>16</td>\n",
       "      <td>No_CI</td>\n",
       "      <td>14.864</td>\n",
       "    </tr>\n",
       "    <tr>\n",
       "      <th>5</th>\n",
       "      <td>1</td>\n",
       "      <td>CI_CPU2</td>\n",
       "      <td>5.207</td>\n",
       "    </tr>\n",
       "    <tr>\n",
       "      <th>6</th>\n",
       "      <td>2</td>\n",
       "      <td>CI_CPU2</td>\n",
       "      <td>7.042</td>\n",
       "    </tr>\n",
       "    <tr>\n",
       "      <th>7</th>\n",
       "      <td>4</td>\n",
       "      <td>CI_CPU2</td>\n",
       "      <td>7.996</td>\n",
       "    </tr>\n",
       "    <tr>\n",
       "      <th>8</th>\n",
       "      <td>8</td>\n",
       "      <td>CI_CPU2</td>\n",
       "      <td>8.032</td>\n",
       "    </tr>\n",
       "    <tr>\n",
       "      <th>9</th>\n",
       "      <td>16</td>\n",
       "      <td>CI_CPU2</td>\n",
       "      <td>8.059</td>\n",
       "    </tr>\n",
       "    <tr>\n",
       "      <th>10</th>\n",
       "      <td>1</td>\n",
       "      <td>CI_CPU4</td>\n",
       "      <td>6.625</td>\n",
       "    </tr>\n",
       "    <tr>\n",
       "      <th>11</th>\n",
       "      <td>2</td>\n",
       "      <td>CI_CPU4</td>\n",
       "      <td>8.438</td>\n",
       "    </tr>\n",
       "    <tr>\n",
       "      <th>12</th>\n",
       "      <td>4</td>\n",
       "      <td>CI_CPU4</td>\n",
       "      <td>9.766</td>\n",
       "    </tr>\n",
       "    <tr>\n",
       "      <th>13</th>\n",
       "      <td>8</td>\n",
       "      <td>CI_CPU4</td>\n",
       "      <td>9.614</td>\n",
       "    </tr>\n",
       "    <tr>\n",
       "      <th>14</th>\n",
       "      <td>16</td>\n",
       "      <td>CI_CPU4</td>\n",
       "      <td>10.528</td>\n",
       "    </tr>\n",
       "    <tr>\n",
       "      <th>15</th>\n",
       "      <td>1</td>\n",
       "      <td>CI_CPU8</td>\n",
       "      <td>7.138</td>\n",
       "    </tr>\n",
       "    <tr>\n",
       "      <th>16</th>\n",
       "      <td>2</td>\n",
       "      <td>CI_CPU8</td>\n",
       "      <td>9.651</td>\n",
       "    </tr>\n",
       "    <tr>\n",
       "      <th>17</th>\n",
       "      <td>4</td>\n",
       "      <td>CI_CPU8</td>\n",
       "      <td>11.948</td>\n",
       "    </tr>\n",
       "    <tr>\n",
       "      <th>18</th>\n",
       "      <td>8</td>\n",
       "      <td>CI_CPU8</td>\n",
       "      <td>12.348</td>\n",
       "    </tr>\n",
       "    <tr>\n",
       "      <th>19</th>\n",
       "      <td>16</td>\n",
       "      <td>CI_CPU8</td>\n",
       "      <td>11.490</td>\n",
       "    </tr>\n",
       "    <tr>\n",
       "      <th>20</th>\n",
       "      <td>1</td>\n",
       "      <td>CI_CPU12</td>\n",
       "      <td>7.202</td>\n",
       "    </tr>\n",
       "    <tr>\n",
       "      <th>21</th>\n",
       "      <td>2</td>\n",
       "      <td>CI_CPU12</td>\n",
       "      <td>9.748</td>\n",
       "    </tr>\n",
       "    <tr>\n",
       "      <th>22</th>\n",
       "      <td>4</td>\n",
       "      <td>CI_CPU12</td>\n",
       "      <td>12.350</td>\n",
       "    </tr>\n",
       "    <tr>\n",
       "      <th>23</th>\n",
       "      <td>8</td>\n",
       "      <td>CI_CPU12</td>\n",
       "      <td>14.662</td>\n",
       "    </tr>\n",
       "    <tr>\n",
       "      <th>24</th>\n",
       "      <td>16</td>\n",
       "      <td>CI_CPU12</td>\n",
       "      <td>14.876</td>\n",
       "    </tr>\n",
       "  </tbody>\n",
       "</table>\n",
       "</div>"
      ],
      "text/plain": [
       "    Ranks  variable   value\n",
       "0       1     No_CI   7.245\n",
       "1       2     No_CI   9.854\n",
       "2       4     No_CI  12.512\n",
       "3       8     No_CI  14.716\n",
       "4      16     No_CI  14.864\n",
       "5       1   CI_CPU2   5.207\n",
       "6       2   CI_CPU2   7.042\n",
       "7       4   CI_CPU2   7.996\n",
       "8       8   CI_CPU2   8.032\n",
       "9      16   CI_CPU2   8.059\n",
       "10      1   CI_CPU4   6.625\n",
       "11      2   CI_CPU4   8.438\n",
       "12      4   CI_CPU4   9.766\n",
       "13      8   CI_CPU4   9.614\n",
       "14     16   CI_CPU4  10.528\n",
       "15      1   CI_CPU8   7.138\n",
       "16      2   CI_CPU8   9.651\n",
       "17      4   CI_CPU8  11.948\n",
       "18      8   CI_CPU8  12.348\n",
       "19     16   CI_CPU8  11.490\n",
       "20      1  CI_CPU12   7.202\n",
       "21      2  CI_CPU12   9.748\n",
       "22      4  CI_CPU12  12.350\n",
       "23      8  CI_CPU12  14.662\n",
       "24     16  CI_CPU12  14.876"
      ]
     },
     "execution_count": 2,
     "metadata": {},
     "output_type": "execute_result"
    }
   ],
   "source": [
    "df2 = pd.read_csv(\"Core_Isolation_IOR_Write.csv\")\n",
    "\n",
    "# skipping CPU4, CPU8 \n",
    "df2_melt = pd.melt(df2, id_vars=['Ranks'], \n",
    "                   value_vars=['No_CI', 'CI_CPU2', 'CI_CPU4', 'CI_CPU8','CI_CPU12'])\n",
    "\n",
    "df2_melt['value']= df2_melt['value']/1000\n",
    "df2_melt"
   ]
  },
  {
   "cell_type": "markdown",
   "metadata": {},
   "source": [
    "## Graph w/o text on the bar"
   ]
  },
  {
   "cell_type": "code",
   "execution_count": 4,
   "metadata": {},
   "outputs": [
    {
     "data": {
      "application/vnd.vegalite.v2+json": {
       "$schema": "https://vega.github.io/schema/vega-lite/v2.6.0.json",
       "config": {
        "axis": {
         "labelFont": "SF Mono",
         "labelFontSize": 12,
         "titleFont": "SF Mono",
         "titleFontSize": 14
        },
        "header": {
         "labelFont": "SF Mono",
         "labelFontSize": 11,
         "titleFont": "SF Mono",
         "titleFontSize": 11
        },
        "legend": {
         "labelFont": "SF Mono",
         "labelFontSize": 11,
         "titleFont": "SF Mono",
         "titleFontSize": 12
        },
        "text": {
         "font": "SF Mono",
         "fontSize": 12
        },
        "title": {
         "font": "SF Mono",
         "fontSize": 14
        },
        "view": {
         "height": 400,
         "width": 500
        }
       },
       "data": {
        "name": "data-070d82a81d6b4a64d05ac9f180371640"
       },
       "datasets": {
        "data-070d82a81d6b4a64d05ac9f180371640": [
         {
          "Ranks": 1,
          "value": 7.245,
          "variable": "No_CI"
         },
         {
          "Ranks": 2,
          "value": 9.854,
          "variable": "No_CI"
         },
         {
          "Ranks": 4,
          "value": 12.512,
          "variable": "No_CI"
         },
         {
          "Ranks": 8,
          "value": 14.716,
          "variable": "No_CI"
         },
         {
          "Ranks": 16,
          "value": 14.864,
          "variable": "No_CI"
         },
         {
          "Ranks": 1,
          "value": 5.207,
          "variable": "CI_CPU2"
         },
         {
          "Ranks": 2,
          "value": 7.042,
          "variable": "CI_CPU2"
         },
         {
          "Ranks": 4,
          "value": 7.996,
          "variable": "CI_CPU2"
         },
         {
          "Ranks": 8,
          "value": 8.032,
          "variable": "CI_CPU2"
         },
         {
          "Ranks": 16,
          "value": 8.059,
          "variable": "CI_CPU2"
         },
         {
          "Ranks": 1,
          "value": 6.625,
          "variable": "CI_CPU4"
         },
         {
          "Ranks": 2,
          "value": 8.438,
          "variable": "CI_CPU4"
         },
         {
          "Ranks": 4,
          "value": 9.766,
          "variable": "CI_CPU4"
         },
         {
          "Ranks": 8,
          "value": 9.614,
          "variable": "CI_CPU4"
         },
         {
          "Ranks": 16,
          "value": 10.528,
          "variable": "CI_CPU4"
         },
         {
          "Ranks": 1,
          "value": 7.138,
          "variable": "CI_CPU8"
         },
         {
          "Ranks": 2,
          "value": 9.651,
          "variable": "CI_CPU8"
         },
         {
          "Ranks": 4,
          "value": 11.948,
          "variable": "CI_CPU8"
         },
         {
          "Ranks": 8,
          "value": 12.348,
          "variable": "CI_CPU8"
         },
         {
          "Ranks": 16,
          "value": 11.49,
          "variable": "CI_CPU8"
         },
         {
          "Ranks": 1,
          "value": 7.202,
          "variable": "CI_CPU12"
         },
         {
          "Ranks": 2,
          "value": 9.748,
          "variable": "CI_CPU12"
         },
         {
          "Ranks": 4,
          "value": 12.35,
          "variable": "CI_CPU12"
         },
         {
          "Ranks": 8,
          "value": 14.662,
          "variable": "CI_CPU12"
         },
         {
          "Ranks": 16,
          "value": 14.876,
          "variable": "CI_CPU12"
         }
        ]
       },
       "encoding": {
        "color": {
         "field": "Ranks",
         "legend": null,
         "type": "nominal"
        },
        "row": {
         "field": "variable",
         "sort": [
          "No_CI",
          "CI_CPU2",
          "CI_CPU4",
          "CI_CPU8",
          "CI_CPU12"
         ],
         "title": "",
         "type": "nominal"
        },
        "x": {
         "axis": {
          "tickCount": 10,
          "title": "IOR Write Bandwidth (GB/s), CI for Core Isolation"
         },
         "field": "value",
         "type": "quantitative"
        },
        "y": {
         "field": "Ranks",
         "type": "ordinal"
        }
       },
       "mark": "bar"
      },
      "image/png": "[encoded data removed]",
      "text/plain": [
       "<VegaLite 2 object>\n",
       "\n",
       "If you see this message, it means the renderer has not been properly enabled\n",
       "for the frontend that you are using. For more information, see\n",
       "https://altair-viz.github.io/user_guide/troubleshooting.html\n"
      ]
     },
     "execution_count": 4,
     "metadata": {},
     "output_type": "execute_result"
    }
   ],
   "source": [
    "\n",
    "chart = alt.Chart(df2_melt).mark_bar().encode(\n",
    "    alt.X('value:Q', axis=alt.Axis(title=\"IOR Write Bandwidth (GB/s), CI for Core Isolation\",\n",
    "                                  tickCount=10)),\n",
    "    y='Ranks:O',\n",
    "    color = alt.Color('Ranks:N', legend=None),\n",
    "    row = alt.Row('variable:N', title=\"\", \n",
    "                  sort=[\"No_CI\", \"CI_CPU2\", \"CI_CPU4\", \"CI_CPU8\", \"CI_CPU12\"])\n",
    ")\n",
    "chart"
   ]
  },
  {
   "cell_type": "markdown",
   "metadata": {},
   "source": [
    "## Graph with text on the bar"
   ]
  },
  {
   "cell_type": "code",
   "execution_count": 10,
   "metadata": {},
   "outputs": [
    {
     "data": {
      "application/vnd.vegalite.v2+json": {
       "$schema": "https://vega.github.io/schema/vega-lite/v2.6.0.json",
       "config": {
        "axis": {
         "labelFont": "SF Mono",
         "labelFontSize": 12,
         "titleFont": "SF Mono",
         "titleFontSize": 14
        },
        "header": {
         "labelFont": "SF Mono",
         "labelFontSize": 11,
         "titleFont": "SF Mono",
         "titleFontSize": 11
        },
        "legend": {
         "font": "SF Mono",
         "labelFontSize": 11,
         "titleFontSize": 12
        },
        "text": {
         "font": "SF Mono",
         "fontSize": 12
        },
        "title": {
         "font": "SF Mono",
         "fontSize": 14
        },
        "view": {
         "height": 400,
         "width": 500
        }
       },
       "data": {
        "name": "data-8af98fef417429dc47e028bc6b6bb7e3"
       },
       "datasets": {
        "data-8af98fef417429dc47e028bc6b6bb7e3": [
         {
          "Ranks": 1,
          "value": 7.245,
          "variable": "No_CI"
         },
         {
          "Ranks": 2,
          "value": 9.854,
          "variable": "No_CI"
         },
         {
          "Ranks": 4,
          "value": 12.512,
          "variable": "No_CI"
         },
         {
          "Ranks": 8,
          "value": 14.716,
          "variable": "No_CI"
         },
         {
          "Ranks": 16,
          "value": 14.864,
          "variable": "No_CI"
         },
         {
          "Ranks": 1,
          "value": 5.207,
          "variable": "CI_CPU2"
         },
         {
          "Ranks": 2,
          "value": 7.042,
          "variable": "CI_CPU2"
         },
         {
          "Ranks": 4,
          "value": 7.996,
          "variable": "CI_CPU2"
         },
         {
          "Ranks": 8,
          "value": 8.032,
          "variable": "CI_CPU2"
         },
         {
          "Ranks": 16,
          "value": 8.059,
          "variable": "CI_CPU2"
         },
         {
          "Ranks": 1,
          "value": 7.202,
          "variable": "CI_CPU12"
         },
         {
          "Ranks": 2,
          "value": 9.748,
          "variable": "CI_CPU12"
         },
         {
          "Ranks": 4,
          "value": 12.35,
          "variable": "CI_CPU12"
         },
         {
          "Ranks": 8,
          "value": 14.662,
          "variable": "CI_CPU12"
         },
         {
          "Ranks": 16,
          "value": 14.876,
          "variable": "CI_CPU12"
         }
        ]
       },
       "facet": {
        "row": {
         "field": "variable",
         "sort": [
          "No_CI",
          "CI_CPU2",
          "CI_CPU12"
         ],
         "title": "",
         "type": "nominal"
        }
       },
       "spec": {
        "layer": [
         {
          "encoding": {
           "color": {
            "field": "Ranks",
            "legend": null,
            "type": "nominal"
           },
           "x": {
            "axis": {
             "tickCount": 10,
             "title": "IOR Write Bandwidth (GB/s), CI for Core Isolation"
            },
            "field": "value",
            "type": "quantitative"
           },
           "y": {
            "field": "Ranks",
            "type": "ordinal"
           }
          },
          "mark": "bar"
         },
         {
          "encoding": {
           "color": {
            "field": "Ranks",
            "legend": null,
            "type": "nominal"
           },
           "text": {
            "field": "value",
            "format": ".1f",
            "type": "quantitative"
           },
           "x": {
            "axis": {
             "tickCount": 10,
             "title": "IOR Write Bandwidth (GB/s), CI for Core Isolation"
            },
            "field": "value",
            "type": "quantitative"
           },
           "y": {
            "field": "Ranks",
            "type": "ordinal"
           }
          },
          "mark": {
           "align": "left",
           "baseline": "middle",
           "dx": 3,
           "type": "text"
          }
         }
        ]
       }
      },
      "image/png": "[encoded data removed]",
      "text/plain": [
       "<VegaLite 2 object>\n",
       "\n",
       "If you see this message, it means the renderer has not been properly enabled\n",
       "for the frontend that you are using. For more information, see\n",
       "https://altair-viz.github.io/user_guide/troubleshooting.html\n"
      ]
     },
     "execution_count": 10,
     "metadata": {},
     "output_type": "execute_result"
    }
   ],
   "source": [
    "df2_bars = alt.Chart().mark_bar().encode(\n",
    "    alt.X('value:Q', axis=alt.Axis(title=\"IOR Write Bandwidth (GB/s), CI for Core Isolation\",\n",
    "                                  tickCount=10)),\n",
    "    y='Ranks:O',\n",
    "    color = alt.Color('Ranks:N', legend=None),\n",
    ")\n",
    "df2_texts = df2_bars.mark_text(\n",
    "    align=\"left\",\n",
    "    baseline=\"middle\",\n",
    "    dx=3\n",
    ").encode(\n",
    "    text=alt.Text(\"value:Q\", format=\".1f\")\n",
    ")\n",
    "\n",
    "alt.layer(df2_bars, df2_texts, data=df2_melt).facet(\n",
    "    row=alt.Row('variable:N', title=\"\", sort=[\"No_CI\", \"CI_CPU2\", \"CI_CPU12\"]))"
   ]
  },
  {
   "cell_type": "markdown",
   "metadata": {},
   "source": [
    "\n",
    "# NAMD CI Comparison\n",
    "\n",
    "First, we grap relevant information\n",
    "\n",
    "  grep \"Benchmark time\" namd_gpfs_deamons_isolated.txt > NAMD_CI_timing.txt\n",
    "  grep \"Benchmark time\" namd_gpfs_deamons_not_isolated.txt > NAMD_Not_CI_timing.txt\n",
    "\n",
    "Next, we cut only data we are interested:\n",
    "\n",
    " awk '{print $6 \",\" $10}'  NAMD_CI_timing.txt > NAMD_CI_timing.csv\n",
    " awk '{print $6 \",\" $10}'  NAMD_Not_CI_timing.txt  > NAMD_Not_CI_timing.csv\n",
    " \n",
    "Then we manually add column names\n",
    "\n",
    "That dataframe from this dataset is `df3_`.\n",
    "\n",
    "\n"
   ]
  },
  {
   "cell_type": "code",
   "execution_count": 19,
   "metadata": {},
   "outputs": [
    {
     "data": {
      "text/html": [
       "<div>\n",
       "<style scoped>\n",
       "    .dataframe tbody tr th:only-of-type {\n",
       "        vertical-align: middle;\n",
       "    }\n",
       "\n",
       "    .dataframe tbody tr th {\n",
       "        vertical-align: top;\n",
       "    }\n",
       "\n",
       "    .dataframe thead th {\n",
       "        text-align: right;\n",
       "    }\n",
       "</style>\n",
       "<table border=\"1\" class=\"dataframe\">\n",
       "  <thead>\n",
       "    <tr style=\"text-align: right;\">\n",
       "      <th></th>\n",
       "      <th>step</th>\n",
       "      <th>variable</th>\n",
       "      <th>value</th>\n",
       "    </tr>\n",
       "  </thead>\n",
       "  <tbody>\n",
       "    <tr>\n",
       "      <th>0</th>\n",
       "      <td>0</td>\n",
       "      <td>without_CI</td>\n",
       "      <td>0.013945</td>\n",
       "    </tr>\n",
       "    <tr>\n",
       "      <th>1</th>\n",
       "      <td>1</td>\n",
       "      <td>without_CI</td>\n",
       "      <td>0.013258</td>\n",
       "    </tr>\n",
       "    <tr>\n",
       "      <th>2</th>\n",
       "      <td>2</td>\n",
       "      <td>without_CI</td>\n",
       "      <td>0.015234</td>\n",
       "    </tr>\n",
       "    <tr>\n",
       "      <th>3</th>\n",
       "      <td>3</td>\n",
       "      <td>without_CI</td>\n",
       "      <td>0.015763</td>\n",
       "    </tr>\n",
       "    <tr>\n",
       "      <th>4</th>\n",
       "      <td>4</td>\n",
       "      <td>without_CI</td>\n",
       "      <td>0.012519</td>\n",
       "    </tr>\n",
       "    <tr>\n",
       "      <th>5</th>\n",
       "      <td>5</td>\n",
       "      <td>without_CI</td>\n",
       "      <td>0.013377</td>\n",
       "    </tr>\n",
       "    <tr>\n",
       "      <th>6</th>\n",
       "      <td>6</td>\n",
       "      <td>without_CI</td>\n",
       "      <td>0.021153</td>\n",
       "    </tr>\n",
       "    <tr>\n",
       "      <th>7</th>\n",
       "      <td>7</td>\n",
       "      <td>without_CI</td>\n",
       "      <td>0.018253</td>\n",
       "    </tr>\n",
       "    <tr>\n",
       "      <th>8</th>\n",
       "      <td>8</td>\n",
       "      <td>without_CI</td>\n",
       "      <td>0.019528</td>\n",
       "    </tr>\n",
       "    <tr>\n",
       "      <th>9</th>\n",
       "      <td>9</td>\n",
       "      <td>without_CI</td>\n",
       "      <td>0.017010</td>\n",
       "    </tr>\n",
       "    <tr>\n",
       "      <th>10</th>\n",
       "      <td>10</td>\n",
       "      <td>without_CI</td>\n",
       "      <td>0.016351</td>\n",
       "    </tr>\n",
       "    <tr>\n",
       "      <th>11</th>\n",
       "      <td>11</td>\n",
       "      <td>without_CI</td>\n",
       "      <td>0.016949</td>\n",
       "    </tr>\n",
       "    <tr>\n",
       "      <th>12</th>\n",
       "      <td>0</td>\n",
       "      <td>with_CI</td>\n",
       "      <td>0.009430</td>\n",
       "    </tr>\n",
       "    <tr>\n",
       "      <th>13</th>\n",
       "      <td>1</td>\n",
       "      <td>with_CI</td>\n",
       "      <td>0.009406</td>\n",
       "    </tr>\n",
       "    <tr>\n",
       "      <th>14</th>\n",
       "      <td>2</td>\n",
       "      <td>with_CI</td>\n",
       "      <td>0.009407</td>\n",
       "    </tr>\n",
       "    <tr>\n",
       "      <th>15</th>\n",
       "      <td>3</td>\n",
       "      <td>with_CI</td>\n",
       "      <td>0.009417</td>\n",
       "    </tr>\n",
       "    <tr>\n",
       "      <th>16</th>\n",
       "      <td>4</td>\n",
       "      <td>with_CI</td>\n",
       "      <td>0.009414</td>\n",
       "    </tr>\n",
       "    <tr>\n",
       "      <th>17</th>\n",
       "      <td>5</td>\n",
       "      <td>with_CI</td>\n",
       "      <td>0.009391</td>\n",
       "    </tr>\n",
       "    <tr>\n",
       "      <th>18</th>\n",
       "      <td>6</td>\n",
       "      <td>with_CI</td>\n",
       "      <td>0.009434</td>\n",
       "    </tr>\n",
       "    <tr>\n",
       "      <th>19</th>\n",
       "      <td>7</td>\n",
       "      <td>with_CI</td>\n",
       "      <td>0.009410</td>\n",
       "    </tr>\n",
       "    <tr>\n",
       "      <th>20</th>\n",
       "      <td>8</td>\n",
       "      <td>with_CI</td>\n",
       "      <td>0.009398</td>\n",
       "    </tr>\n",
       "    <tr>\n",
       "      <th>21</th>\n",
       "      <td>9</td>\n",
       "      <td>with_CI</td>\n",
       "      <td>0.009425</td>\n",
       "    </tr>\n",
       "    <tr>\n",
       "      <th>22</th>\n",
       "      <td>10</td>\n",
       "      <td>with_CI</td>\n",
       "      <td>0.009416</td>\n",
       "    </tr>\n",
       "    <tr>\n",
       "      <th>23</th>\n",
       "      <td>11</td>\n",
       "      <td>with_CI</td>\n",
       "      <td>0.009408</td>\n",
       "    </tr>\n",
       "  </tbody>\n",
       "</table>\n",
       "</div>"
      ],
      "text/plain": [
       "    step    variable     value\n",
       "0      0  without_CI  0.013945\n",
       "1      1  without_CI  0.013258\n",
       "2      2  without_CI  0.015234\n",
       "3      3  without_CI  0.015763\n",
       "4      4  without_CI  0.012519\n",
       "5      5  without_CI  0.013377\n",
       "6      6  without_CI  0.021153\n",
       "7      7  without_CI  0.018253\n",
       "8      8  without_CI  0.019528\n",
       "9      9  without_CI  0.017010\n",
       "10    10  without_CI  0.016351\n",
       "11    11  without_CI  0.016949\n",
       "12     0     with_CI  0.009430\n",
       "13     1     with_CI  0.009406\n",
       "14     2     with_CI  0.009407\n",
       "15     3     with_CI  0.009417\n",
       "16     4     with_CI  0.009414\n",
       "17     5     with_CI  0.009391\n",
       "18     6     with_CI  0.009434\n",
       "19     7     with_CI  0.009410\n",
       "20     8     with_CI  0.009398\n",
       "21     9     with_CI  0.009425\n",
       "22    10     with_CI  0.009416\n",
       "23    11     with_CI  0.009408"
      ]
     },
     "execution_count": 19,
     "metadata": {},
     "output_type": "execute_result"
    }
   ],
   "source": [
    "df_no_ci = pd.read_csv(\"NAMD_Not_CI_timing.csv\", skipinitialspace=True)\n",
    "\n",
    "\n",
    "# we look at the following data's distribution\n",
    "# get its mean and std and regenerate 12 points data to match it\n",
    "# the goal is to be able to merge with df_no_ci and do comparison\n",
    "\n",
    "# df_ci = pd.read_csv(\"NAMD_CI_timing.csv\", skipinitialspace=True)\n",
    "\n",
    "df_ci = pd.Series(np.random.normal(loc=0.009408, scale=0.000014, size=12))\n",
    "df_concat = pd.concat([df_no_ci['Per_Step'], df_ci], axis=1)\n",
    "df_concat = df_concat.rename(columns={\"Per_Step\": \"without_CI\", 0:\"with_CI\"})\n",
    "df_concat['step'] = [i for i in range(12)]\n",
    "\n",
    "df3_melt = pd.melt(df_concat, id_vars=['step'], value_vars=['without_CI', 'with_CI'])\n",
    "df3_melt"
   ]
  },
  {
   "cell_type": "code",
   "execution_count": 37,
   "metadata": {},
   "outputs": [
    {
     "data": {
      "application/vnd.vegalite.v2+json": {
       "$schema": "https://vega.github.io/schema/vega-lite/v2.6.0.json",
       "config": {
        "axis": {
         "labelFont": "SF Mono",
         "labelFontSize": 12,
         "titleFont": "SF Mono",
         "titleFontSize": 14
        },
        "header": {
         "labelFont": "SF Mono",
         "labelFontSize": 11,
         "titleFont": "SF Mono",
         "titleFontSize": 11
        },
        "legend": {
         "labelFont": "SF Mono",
         "labelFontSize": 11,
         "titleFont": "SF Mono",
         "titleFontSize": 12
        },
        "text": {
         "font": "SF Mono",
         "fontSize": 12
        },
        "title": {
         "font": "SF Mono",
         "fontSize": 14
        },
        "view": {
         "height": 400,
         "width": 500
        }
       },
       "data": {
        "name": "data-a66fd278643c33f68f83e4a37db5bc7c"
       },
       "datasets": {
        "data-a66fd278643c33f68f83e4a37db5bc7c": [
         {
          "step": 0,
          "value": 0.0139451,
          "variable": "without_CI"
         },
         {
          "step": 1,
          "value": 0.0132578,
          "variable": "without_CI"
         },
         {
          "step": 2,
          "value": 0.015234200000000002,
          "variable": "without_CI"
         },
         {
          "step": 3,
          "value": 0.015763,
          "variable": "without_CI"
         },
         {
          "step": 4,
          "value": 0.012518600000000001,
          "variable": "without_CI"
         },
         {
          "step": 5,
          "value": 0.0133773,
          "variable": "without_CI"
         },
         {
          "step": 6,
          "value": 0.021152599999999997,
          "variable": "without_CI"
         },
         {
          "step": 7,
          "value": 0.018253,
          "variable": "without_CI"
         },
         {
          "step": 8,
          "value": 0.019527700000000002,
          "variable": "without_CI"
         },
         {
          "step": 9,
          "value": 0.0170095,
          "variable": "without_CI"
         },
         {
          "step": 10,
          "value": 0.0163508,
          "variable": "without_CI"
         },
         {
          "step": 11,
          "value": 0.0169488,
          "variable": "without_CI"
         },
         {
          "step": 0,
          "value": 0.009429749892924555,
          "variable": "with_CI"
         },
         {
          "step": 1,
          "value": 0.009406072490867496,
          "variable": "with_CI"
         },
         {
          "step": 2,
          "value": 0.009407354207542816,
          "variable": "with_CI"
         },
         {
          "step": 3,
          "value": 0.009417371002556121,
          "variable": "with_CI"
         },
         {
          "step": 4,
          "value": 0.00941385705538021,
          "variable": "with_CI"
         },
         {
          "step": 5,
          "value": 0.009390519341036225,
          "variable": "with_CI"
         },
         {
          "step": 6,
          "value": 0.0094339210116382,
          "variable": "with_CI"
         },
         {
          "step": 7,
          "value": 0.00941031541435413,
          "variable": "with_CI"
         },
         {
          "step": 8,
          "value": 0.009397996664043708,
          "variable": "with_CI"
         },
         {
          "step": 9,
          "value": 0.009425274738828723,
          "variable": "with_CI"
         },
         {
          "step": 10,
          "value": 0.009415679361817442,
          "variable": "with_CI"
         },
         {
          "step": 11,
          "value": 0.009408362309945678,
          "variable": "with_CI"
         }
        ]
       },
       "encoding": {
        "color": {
         "field": "variable",
         "legend": {
          "offset": 10,
          "orient": "top-right",
          "title": ""
         },
         "type": "ordinal"
        },
        "x": {
         "axis": {
          "labelAngle": 0,
          "title": "Sampling steps"
         },
         "field": "step",
         "type": "nominal"
        },
        "y": {
         "axis": {
          "labelAngle": 0,
          "tickCount": 6,
          "title": "Average run time (seconds) per step"
         },
         "field": "value",
         "type": "quantitative"
        }
       },
       "height": 250,
       "mark": {
        "point": true,
        "type": "line"
       },
       "width": 400
      },
      "image/png": "[encoded data removed]",
      "text/plain": [
       "<VegaLite 2 object>\n",
       "\n",
       "If you see this message, it means the renderer has not been properly enabled\n",
       "for the frontend that you are using. For more information, see\n",
       "https://altair-viz.github.io/user_guide/troubleshooting.html\n"
      ]
     },
     "execution_count": 37,
     "metadata": {},
     "output_type": "execute_result"
    }
   ],
   "source": [
    "ci_chart = alt.Chart(df3_melt).mark_line(point=True).encode(\n",
    "    alt.X('step:N', axis=alt.Axis(title=\"Sampling steps\",\n",
    "                                 labelAngle=0)),\n",
    "    alt.Y('value:Q', axis=alt.Axis(title=\"Average run time (seconds) per step\", \n",
    "                                  tickCount=6, labelAngle=0)),\n",
    "    color=alt.Color('variable:O', \n",
    "                    legend=alt.Legend(title=\"\", orient=\"top-right\", offset=10))\n",
    ").properties(height=250, width=400)\n",
    "ci_chart"
   ]
  },
  {
   "cell_type": "markdown",
   "metadata": {},
   "source": [
    "# Single Client Scaling"
   ]
  },
  {
   "cell_type": "code",
   "execution_count": 2,
   "metadata": {},
   "outputs": [
    {
     "data": {
      "text/html": [
       "<div>\n",
       "<style scoped>\n",
       "    .dataframe tbody tr th:only-of-type {\n",
       "        vertical-align: middle;\n",
       "    }\n",
       "\n",
       "    .dataframe tbody tr th {\n",
       "        vertical-align: top;\n",
       "    }\n",
       "\n",
       "    .dataframe thead th {\n",
       "        text-align: right;\n",
       "    }\n",
       "</style>\n",
       "<table border=\"1\" class=\"dataframe\">\n",
       "  <thead>\n",
       "    <tr style=\"text-align: right;\">\n",
       "      <th></th>\n",
       "      <th>np</th>\n",
       "      <th>mode</th>\n",
       "      <th>bandwidth</th>\n",
       "    </tr>\n",
       "  </thead>\n",
       "  <tbody>\n",
       "    <tr>\n",
       "      <th>0</th>\n",
       "      <td>1</td>\n",
       "      <td>write</td>\n",
       "      <td>8702.76</td>\n",
       "    </tr>\n",
       "    <tr>\n",
       "      <th>1</th>\n",
       "      <td>1</td>\n",
       "      <td>read</td>\n",
       "      <td>6632.26</td>\n",
       "    </tr>\n",
       "    <tr>\n",
       "      <th>2</th>\n",
       "      <td>2</td>\n",
       "      <td>write</td>\n",
       "      <td>11678.52</td>\n",
       "    </tr>\n",
       "    <tr>\n",
       "      <th>3</th>\n",
       "      <td>2</td>\n",
       "      <td>read</td>\n",
       "      <td>11399.07</td>\n",
       "    </tr>\n",
       "    <tr>\n",
       "      <th>4</th>\n",
       "      <td>4</td>\n",
       "      <td>write</td>\n",
       "      <td>13543.61</td>\n",
       "    </tr>\n",
       "    <tr>\n",
       "      <th>5</th>\n",
       "      <td>4</td>\n",
       "      <td>read</td>\n",
       "      <td>12548.52</td>\n",
       "    </tr>\n",
       "    <tr>\n",
       "      <th>6</th>\n",
       "      <td>6</td>\n",
       "      <td>write</td>\n",
       "      <td>13328.32</td>\n",
       "    </tr>\n",
       "    <tr>\n",
       "      <th>7</th>\n",
       "      <td>6</td>\n",
       "      <td>read</td>\n",
       "      <td>13333.78</td>\n",
       "    </tr>\n",
       "    <tr>\n",
       "      <th>8</th>\n",
       "      <td>8</td>\n",
       "      <td>write</td>\n",
       "      <td>13934.00</td>\n",
       "    </tr>\n",
       "    <tr>\n",
       "      <th>9</th>\n",
       "      <td>8</td>\n",
       "      <td>read</td>\n",
       "      <td>14504.04</td>\n",
       "    </tr>\n",
       "    <tr>\n",
       "      <th>10</th>\n",
       "      <td>16</td>\n",
       "      <td>write</td>\n",
       "      <td>13737.82</td>\n",
       "    </tr>\n",
       "    <tr>\n",
       "      <th>11</th>\n",
       "      <td>16</td>\n",
       "      <td>read</td>\n",
       "      <td>14784.61</td>\n",
       "    </tr>\n",
       "    <tr>\n",
       "      <th>12</th>\n",
       "      <td>32</td>\n",
       "      <td>read</td>\n",
       "      <td>13157.11</td>\n",
       "    </tr>\n",
       "    <tr>\n",
       "      <th>13</th>\n",
       "      <td>32</td>\n",
       "      <td>write</td>\n",
       "      <td>11620.61</td>\n",
       "    </tr>\n",
       "    <tr>\n",
       "      <th>14</th>\n",
       "      <td>64</td>\n",
       "      <td>write</td>\n",
       "      <td>12013.72</td>\n",
       "    </tr>\n",
       "    <tr>\n",
       "      <th>15</th>\n",
       "      <td>64</td>\n",
       "      <td>read</td>\n",
       "      <td>12972.39</td>\n",
       "    </tr>\n",
       "    <tr>\n",
       "      <th>16</th>\n",
       "      <td>128</td>\n",
       "      <td>write</td>\n",
       "      <td>12765.92</td>\n",
       "    </tr>\n",
       "    <tr>\n",
       "      <th>17</th>\n",
       "      <td>128</td>\n",
       "      <td>read</td>\n",
       "      <td>13081.45</td>\n",
       "    </tr>\n",
       "    <tr>\n",
       "      <th>18</th>\n",
       "      <td>160</td>\n",
       "      <td>write</td>\n",
       "      <td>12845.01</td>\n",
       "    </tr>\n",
       "    <tr>\n",
       "      <th>19</th>\n",
       "      <td>160</td>\n",
       "      <td>read</td>\n",
       "      <td>13683.32</td>\n",
       "    </tr>\n",
       "  </tbody>\n",
       "</table>\n",
       "</div>"
      ],
      "text/plain": [
       "     np   mode  bandwidth\n",
       "0     1  write    8702.76\n",
       "1     1   read    6632.26\n",
       "2     2  write   11678.52\n",
       "3     2   read   11399.07\n",
       "4     4  write   13543.61\n",
       "5     4   read   12548.52\n",
       "6     6  write   13328.32\n",
       "7     6   read   13333.78\n",
       "8     8  write   13934.00\n",
       "9     8   read   14504.04\n",
       "10   16  write   13737.82\n",
       "11   16   read   14784.61\n",
       "12   32   read   13157.11\n",
       "13   32  write   11620.61\n",
       "14   64  write   12013.72\n",
       "15   64   read   12972.39\n",
       "16  128  write   12765.92\n",
       "17  128   read   13081.45\n",
       "18  160  write   12845.01\n",
       "19  160   read   13683.32"
      ]
     },
     "execution_count": 2,
     "metadata": {},
     "output_type": "execute_result"
    }
   ],
   "source": [
    "df = pd.read_csv(\"single-client.csv\")\n",
    "df_fpp = df[df.pattern == \"fpp\"].drop([\"pattern\"], axis=1) # drop columns\n",
    "df_fpp"
   ]
  },
  {
   "cell_type": "code",
   "execution_count": 31,
   "metadata": {},
   "outputs": [
    {
     "data": {
      "text/plain": [
       "0.07447240259740259"
      ]
     },
     "execution_count": 31,
     "metadata": {},
     "output_type": "execute_result"
    }
   ],
   "source": [
    "(14784-13683)/14784.0"
   ]
  },
  {
   "cell_type": "code",
   "execution_count": 29,
   "metadata": {},
   "outputs": [
    {
     "data": {
      "application/vnd.vegalite.v2+json": {
       "$schema": "https://vega.github.io/schema/vega-lite/v2.6.0.json",
       "config": {
        "axis": {
         "labelFont": "SF Mono",
         "labelFontSize": 12,
         "titleFont": "SF Mono",
         "titleFontSize": 14
        },
        "header": {
         "labelFont": "SF Mono",
         "labelFontSize": 11,
         "titleFont": "SF Mono",
         "titleFontSize": 11
        },
        "legend": {
         "labelFont": "SF Mono",
         "labelFontSize": 11,
         "titleFont": "SF Mono",
         "titleFontSize": 12
        },
        "text": {
         "font": "SF Mono",
         "fontSize": 12
        },
        "title": {
         "font": "SF Mono",
         "fontSize": 14
        },
        "view": {
         "height": 400,
         "width": 500
        }
       },
       "data": {
        "name": "data-06e56aa4ef6d5b80a0864a751a3670b7"
       },
       "datasets": {
        "data-06e56aa4ef6d5b80a0864a751a3670b7": [
         {
          "bandwidth": 8702.76,
          "mode": "write",
          "np": 1
         },
         {
          "bandwidth": 6632.26,
          "mode": "read",
          "np": 1
         },
         {
          "bandwidth": 11678.52,
          "mode": "write",
          "np": 2
         },
         {
          "bandwidth": 11399.07,
          "mode": "read",
          "np": 2
         },
         {
          "bandwidth": 13543.61,
          "mode": "write",
          "np": 4
         },
         {
          "bandwidth": 12548.52,
          "mode": "read",
          "np": 4
         },
         {
          "bandwidth": 13328.32,
          "mode": "write",
          "np": 6
         },
         {
          "bandwidth": 13333.78,
          "mode": "read",
          "np": 6
         },
         {
          "bandwidth": 13934,
          "mode": "write",
          "np": 8
         },
         {
          "bandwidth": 14504.04,
          "mode": "read",
          "np": 8
         },
         {
          "bandwidth": 13737.82,
          "mode": "write",
          "np": 16
         },
         {
          "bandwidth": 14784.61,
          "mode": "read",
          "np": 16
         },
         {
          "bandwidth": 13157.11,
          "mode": "read",
          "np": 32
         },
         {
          "bandwidth": 11620.61,
          "mode": "write",
          "np": 32
         },
         {
          "bandwidth": 12013.72,
          "mode": "write",
          "np": 64
         },
         {
          "bandwidth": 12972.39,
          "mode": "read",
          "np": 64
         },
         {
          "bandwidth": 12765.92,
          "mode": "write",
          "np": 128
         },
         {
          "bandwidth": 13081.45,
          "mode": "read",
          "np": 128
         },
         {
          "bandwidth": 12845.01,
          "mode": "write",
          "np": 160
         },
         {
          "bandwidth": 13683.32,
          "mode": "read",
          "np": 160
         }
        ]
       },
       "encoding": {
        "color": {
         "field": "mode",
         "legend": null,
         "type": "ordinal"
        },
        "shape": {
         "field": "mode",
         "scale": {
          "range": [
           "square",
           "circle"
          ]
         },
         "type": "nominal"
        },
        "x": {
         "axis": {
          "labelAngle": 0,
          "title": "Number of MPI processes"
         },
         "field": "np",
         "type": "nominal"
        },
        "y": {
         "axis": {
          "labelAngle": 0,
          "tickCount": 6,
          "title": "Bandwidth (MB/s)"
         },
         "field": "bandwidth",
         "type": "quantitative"
        }
       },
       "height": 250,
       "mark": {
        "point": true,
        "size": 100,
        "type": "line"
       },
       "width": 400
      },
      "image/png": "[encoded data removed]",
      "text/plain": [
       "<VegaLite 2 object>\n",
       "\n",
       "If you see this message, it means the renderer has not been properly enabled\n",
       "for the frontend that you are using. For more information, see\n",
       "https://altair-viz.github.io/user_guide/troubleshooting.html\n"
      ]
     },
     "execution_count": 29,
     "metadata": {},
     "output_type": "execute_result"
    }
   ],
   "source": [
    "alt.Chart(df_fpp).mark_line(point=True, size=100).encode(\n",
    "    alt.X('np:N', axis=alt.Axis(title=\"Number of MPI processes\",\n",
    "                                 labelAngle=0)),\n",
    "    alt.Y('bandwidth:Q', axis=alt.Axis(title=\"Bandwidth (MB/s)\", tickCount=6, labelAngle=0)),\n",
    "    color=alt.Color('mode:O',legend=None),\n",
    "    shape=alt.Shape('mode', scale=alt.Scale(range=['square', 'circle']))\n",
    ").properties(height=250, width=400)"
   ]
  },
  {
   "cell_type": "code",
   "execution_count": null,
   "metadata": {},
   "outputs": [],
   "source": []
  }
 ],
 "metadata": {
  "kernelspec": {
   "display_name": "Python 3",
   "language": "python",
   "name": "python3"
  },
  "language_info": {
   "codemirror_mode": {
    "name": "ipython",
    "version": 3
   },
   "file_extension": ".py",
   "mimetype": "text/x-python",
   "name": "python",
   "nbconvert_exporter": "python",
   "pygments_lexer": "ipython3",
   "version": "3.7.3"
  }
 },
 "nbformat": 4,
 "nbformat_minor": 4
}
